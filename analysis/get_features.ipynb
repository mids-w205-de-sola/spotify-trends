{
 "cells": [
  {
   "cell_type": "code",
   "execution_count": 16,
   "id": "02400d1c",
   "metadata": {},
   "outputs": [],
   "source": [
    "import pandas as pd\n",
    "import spotipy\n",
    "from spotipy.oauth2 import SpotifyClientCredentials"
   ]
  },
  {
   "cell_type": "code",
   "execution_count": 9,
   "id": "aa7e07e0",
   "metadata": {},
   "outputs": [],
   "source": [
    "df = pd.read_csv('~/w205/spotify-trends/analysis/everyday_top50.csv')"
   ]
  },
  {
   "cell_type": "code",
   "execution_count": 10,
   "id": "c2a95233",
   "metadata": {},
   "outputs": [
    {
     "data": {
      "text/html": [
       "<div>\n",
       "<style scoped>\n",
       "    .dataframe tbody tr th:only-of-type {\n",
       "        vertical-align: middle;\n",
       "    }\n",
       "\n",
       "    .dataframe tbody tr th {\n",
       "        vertical-align: top;\n",
       "    }\n",
       "\n",
       "    .dataframe thead th {\n",
       "        text-align: right;\n",
       "    }\n",
       "</style>\n",
       "<table border=\"1\" class=\"dataframe\">\n",
       "  <thead>\n",
       "    <tr style=\"text-align: right;\">\n",
       "      <th></th>\n",
       "      <th>date</th>\n",
       "      <th>rank</th>\n",
       "      <th>song_name</th>\n",
       "      <th>song_id</th>\n",
       "      <th>album_name</th>\n",
       "      <th>artist</th>\n",
       "      <th>release_date</th>\n",
       "    </tr>\n",
       "  </thead>\n",
       "  <tbody>\n",
       "    <tr>\n",
       "      <th>0</th>\n",
       "      <td>2021-11-17 17:30:02.13</td>\n",
       "      <td>1</td>\n",
       "      <td>All Too Well (10 Minute Version) (Taylor's Ver...</td>\n",
       "      <td>5enxwA8aAbwZbf5qCHORXi</td>\n",
       "      <td>Red (Taylor's Version)</td>\n",
       "      <td>Taylor Swift</td>\n",
       "      <td>2021-11-12</td>\n",
       "    </tr>\n",
       "    <tr>\n",
       "      <th>1</th>\n",
       "      <td>2021-11-17 17:30:02.13</td>\n",
       "      <td>2</td>\n",
       "      <td>Easy On Me</td>\n",
       "      <td>0gplL1WMoJ6iYaPgMCL0gX</td>\n",
       "      <td>Easy On Me</td>\n",
       "      <td>Adele</td>\n",
       "      <td>2021-10-14</td>\n",
       "    </tr>\n",
       "    <tr>\n",
       "      <th>2</th>\n",
       "      <td>2021-11-17 17:30:02.13</td>\n",
       "      <td>3</td>\n",
       "      <td>STAY (with Justin Bieber)</td>\n",
       "      <td>5PjdY0CKGZdEuoNab3yDmX</td>\n",
       "      <td>F*CK LOVE 3: OVER YOU</td>\n",
       "      <td>The Kid LAROI</td>\n",
       "      <td>2021-07-23</td>\n",
       "    </tr>\n",
       "    <tr>\n",
       "      <th>3</th>\n",
       "      <td>2021-11-17 17:30:02.13</td>\n",
       "      <td>4</td>\n",
       "      <td>INDUSTRY BABY (feat. Jack Harlow)</td>\n",
       "      <td>5Z9KJZvQzH6PFmb8SNkxuk</td>\n",
       "      <td>MONTERO</td>\n",
       "      <td>Lil Nas X</td>\n",
       "      <td>2021-09-17</td>\n",
       "    </tr>\n",
       "    <tr>\n",
       "      <th>4</th>\n",
       "      <td>2021-11-17 17:30:02.13</td>\n",
       "      <td>5</td>\n",
       "      <td>Cold Heart - PNAU Remix</td>\n",
       "      <td>7rglLriMNBPAyuJOMGwi39</td>\n",
       "      <td>The Lockdown Sessions</td>\n",
       "      <td>Elton John</td>\n",
       "      <td>2021-10-22</td>\n",
       "    </tr>\n",
       "    <tr>\n",
       "      <th>...</th>\n",
       "      <td>...</td>\n",
       "      <td>...</td>\n",
       "      <td>...</td>\n",
       "      <td>...</td>\n",
       "      <td>...</td>\n",
       "      <td>...</td>\n",
       "      <td>...</td>\n",
       "    </tr>\n",
       "    <tr>\n",
       "      <th>745</th>\n",
       "      <td>2021-12-01 16:00:05.79</td>\n",
       "      <td>46</td>\n",
       "      <td>traitor</td>\n",
       "      <td>5CZ40GBx1sQ9agT82CLQCT</td>\n",
       "      <td>SOUR</td>\n",
       "      <td>Olivia Rodrigo</td>\n",
       "      <td>2021-05-21</td>\n",
       "    </tr>\n",
       "    <tr>\n",
       "      <th>746</th>\n",
       "      <td>2021-12-01 16:00:05.79</td>\n",
       "      <td>47</td>\n",
       "      <td>It's the Most Wonderful Time of the Year</td>\n",
       "      <td>1IcR6RlgvDczfvoWJSSY2A</td>\n",
       "      <td>The Andy Williams Christmas Album</td>\n",
       "      <td>Andy Williams</td>\n",
       "      <td>1963</td>\n",
       "    </tr>\n",
       "    <tr>\n",
       "      <th>747</th>\n",
       "      <td>2021-12-01 16:00:05.79</td>\n",
       "      <td>48</td>\n",
       "      <td>Life Goes On</td>\n",
       "      <td>0eu4C55hL6x29mmeAjytzC</td>\n",
       "      <td>Ugly is Beautiful: Shorter, Thicker &amp; Uglier (...</td>\n",
       "      <td>Oliver Tree</td>\n",
       "      <td>2021-05-28</td>\n",
       "    </tr>\n",
       "    <tr>\n",
       "      <th>748</th>\n",
       "      <td>2021-12-01 16:00:05.79</td>\n",
       "      <td>49</td>\n",
       "      <td>Mon Amour - Remix</td>\n",
       "      <td>5TMLavqGRKNxgzMBrVpC9R</td>\n",
       "      <td>Mon Amour (Remix)</td>\n",
       "      <td>zzoilo</td>\n",
       "      <td>2021-08-18</td>\n",
       "    </tr>\n",
       "    <tr>\n",
       "      <th>749</th>\n",
       "      <td>2021-12-01 16:00:05.79</td>\n",
       "      <td>50</td>\n",
       "      <td>I Drink Wine</td>\n",
       "      <td>6v0UJD4a2FtleHeSYVX02A</td>\n",
       "      <td>30</td>\n",
       "      <td>Adele</td>\n",
       "      <td>2021-11-19</td>\n",
       "    </tr>\n",
       "  </tbody>\n",
       "</table>\n",
       "<p>750 rows × 7 columns</p>\n",
       "</div>"
      ],
      "text/plain": [
       "                       date  rank  \\\n",
       "0    2021-11-17 17:30:02.13     1   \n",
       "1    2021-11-17 17:30:02.13     2   \n",
       "2    2021-11-17 17:30:02.13     3   \n",
       "3    2021-11-17 17:30:02.13     4   \n",
       "4    2021-11-17 17:30:02.13     5   \n",
       "..                      ...   ...   \n",
       "745  2021-12-01 16:00:05.79    46   \n",
       "746  2021-12-01 16:00:05.79    47   \n",
       "747  2021-12-01 16:00:05.79    48   \n",
       "748  2021-12-01 16:00:05.79    49   \n",
       "749  2021-12-01 16:00:05.79    50   \n",
       "\n",
       "                                             song_name  \\\n",
       "0    All Too Well (10 Minute Version) (Taylor's Ver...   \n",
       "1                                           Easy On Me   \n",
       "2                            STAY (with Justin Bieber)   \n",
       "3                    INDUSTRY BABY (feat. Jack Harlow)   \n",
       "4                              Cold Heart - PNAU Remix   \n",
       "..                                                 ...   \n",
       "745                                            traitor   \n",
       "746           It's the Most Wonderful Time of the Year   \n",
       "747                                       Life Goes On   \n",
       "748                                  Mon Amour - Remix   \n",
       "749                                       I Drink Wine   \n",
       "\n",
       "                    song_id  \\\n",
       "0    5enxwA8aAbwZbf5qCHORXi   \n",
       "1    0gplL1WMoJ6iYaPgMCL0gX   \n",
       "2    5PjdY0CKGZdEuoNab3yDmX   \n",
       "3    5Z9KJZvQzH6PFmb8SNkxuk   \n",
       "4    7rglLriMNBPAyuJOMGwi39   \n",
       "..                      ...   \n",
       "745  5CZ40GBx1sQ9agT82CLQCT   \n",
       "746  1IcR6RlgvDczfvoWJSSY2A   \n",
       "747  0eu4C55hL6x29mmeAjytzC   \n",
       "748  5TMLavqGRKNxgzMBrVpC9R   \n",
       "749  6v0UJD4a2FtleHeSYVX02A   \n",
       "\n",
       "                                            album_name          artist  \\\n",
       "0                               Red (Taylor's Version)    Taylor Swift   \n",
       "1                                           Easy On Me           Adele   \n",
       "2                                F*CK LOVE 3: OVER YOU   The Kid LAROI   \n",
       "3                                              MONTERO       Lil Nas X   \n",
       "4                                The Lockdown Sessions      Elton John   \n",
       "..                                                 ...             ...   \n",
       "745                                               SOUR  Olivia Rodrigo   \n",
       "746                  The Andy Williams Christmas Album   Andy Williams   \n",
       "747  Ugly is Beautiful: Shorter, Thicker & Uglier (...     Oliver Tree   \n",
       "748                                  Mon Amour (Remix)          zzoilo   \n",
       "749                                                 30           Adele   \n",
       "\n",
       "    release_date  \n",
       "0     2021-11-12  \n",
       "1     2021-10-14  \n",
       "2     2021-07-23  \n",
       "3     2021-09-17  \n",
       "4     2021-10-22  \n",
       "..           ...  \n",
       "745   2021-05-21  \n",
       "746         1963  \n",
       "747   2021-05-28  \n",
       "748   2021-08-18  \n",
       "749   2021-11-19  \n",
       "\n",
       "[750 rows x 7 columns]"
      ]
     },
     "execution_count": 10,
     "metadata": {},
     "output_type": "execute_result"
    }
   ],
   "source": [
    "df"
   ]
  },
  {
   "cell_type": "code",
   "execution_count": 12,
   "id": "87d9bf14",
   "metadata": {},
   "outputs": [
    {
     "data": {
      "text/plain": [
       "84"
      ]
     },
     "execution_count": 12,
     "metadata": {},
     "output_type": "execute_result"
    }
   ],
   "source": [
    "id_list = list(set(df.song_id))\n",
    "len(id_list)"
   ]
  },
  {
   "cell_type": "code",
   "execution_count": 17,
   "id": "4373ce07",
   "metadata": {},
   "outputs": [],
   "source": [
    "ClientID = 'a6691414e64144f9a6251dfe1a47b033' \n",
    "SecretID = '1f0ddcb110b3459f81325911824acbed'"
   ]
  },
  {
   "cell_type": "code",
   "execution_count": 18,
   "id": "ddf5f2fa",
   "metadata": {},
   "outputs": [],
   "source": [
    "sp = spotipy.Spotify(client_credentials_manager=SpotifyClientCredentials(client_id=ClientID,\n",
    "                                                                         client_secret=SecretID))"
   ]
  },
  {
   "cell_type": "code",
   "execution_count": 19,
   "id": "be2e7415",
   "metadata": {},
   "outputs": [],
   "source": [
    "features = sp.audio_features(id_list)"
   ]
  },
  {
   "cell_type": "code",
   "execution_count": 22,
   "id": "e5c8c026",
   "metadata": {},
   "outputs": [
    {
     "data": {
      "text/plain": [
       "84"
      ]
     },
     "execution_count": 22,
     "metadata": {},
     "output_type": "execute_result"
    }
   ],
   "source": [
    "len(features)"
   ]
  },
  {
   "cell_type": "code",
   "execution_count": 24,
   "id": "5c5fa43d",
   "metadata": {},
   "outputs": [
    {
     "data": {
      "text/plain": [
       "{'danceability': 0.737,\n",
       " 'energy': 0.846,\n",
       " 'key': 1,\n",
       " 'loudness': -4.51,\n",
       " 'mode': 0,\n",
       " 'speechiness': 0.22,\n",
       " 'acousticness': 0.00614,\n",
       " 'instrumentalness': 0,\n",
       " 'liveness': 0.0486,\n",
       " 'valence': 0.546,\n",
       " 'tempo': 87.981,\n",
       " 'type': 'audio_features',\n",
       " 'id': '0e8nrvls4Qqv5Rfa2UhqmO',\n",
       " 'uri': 'spotify:track:0e8nrvls4Qqv5Rfa2UhqmO',\n",
       " 'track_href': 'https://api.spotify.com/v1/tracks/0e8nrvls4Qqv5Rfa2UhqmO',\n",
       " 'analysis_url': 'https://api.spotify.com/v1/audio-analysis/0e8nrvls4Qqv5Rfa2UhqmO',\n",
       " 'duration_ms': 143901,\n",
       " 'time_signature': 4}"
      ]
     },
     "execution_count": 24,
     "metadata": {},
     "output_type": "execute_result"
    }
   ],
   "source": [
    "features[0]"
   ]
  },
  {
   "cell_type": "code",
   "execution_count": 31,
   "id": "80771882",
   "metadata": {},
   "outputs": [],
   "source": [
    "features_df = pd.DataFrame([features[i] for i in range(len(features))])"
   ]
  },
  {
   "cell_type": "code",
   "execution_count": 32,
   "id": "6a4f8fe6",
   "metadata": {},
   "outputs": [],
   "source": [
    "features_df = features_df[['id','valence','tempo','danceability','energy','loudness','duration_ms']]"
   ]
  },
  {
   "cell_type": "code",
   "execution_count": 35,
   "id": "11a921df",
   "metadata": {},
   "outputs": [],
   "source": [
    "features_df.to_csv('~/w205/spotify-trends/analysis/features.csv', index=False)"
   ]
  },
  {
   "cell_type": "code",
   "execution_count": 37,
   "id": "2d03a991",
   "metadata": {},
   "outputs": [],
   "source": [
    "final_df = df.merge(features_df, left_on='song_id', right_on='id', how='outer')"
   ]
  },
  {
   "cell_type": "code",
   "execution_count": 39,
   "id": "3aa27abf",
   "metadata": {},
   "outputs": [],
   "source": [
    "final_df.to_csv('~/w205/spotify-trends/analysis/final_data.csv', index=False)"
   ]
  }
 ],
 "metadata": {
  "environment": {
   "name": "tf2-gpu.2-3.m78",
   "type": "gcloud",
   "uri": "gcr.io/deeplearning-platform-release/tf2-gpu.2-3:m78"
  },
  "kernelspec": {
   "display_name": "Python 3",
   "language": "python",
   "name": "python3"
  },
  "language_info": {
   "codemirror_mode": {
    "name": "ipython",
    "version": 3
   },
   "file_extension": ".py",
   "mimetype": "text/x-python",
   "name": "python",
   "nbconvert_exporter": "python",
   "pygments_lexer": "ipython3",
   "version": "3.7.10"
  }
 },
 "nbformat": 4,
 "nbformat_minor": 5
}

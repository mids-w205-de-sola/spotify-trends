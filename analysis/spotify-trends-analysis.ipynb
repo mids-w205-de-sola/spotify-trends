{
 "cells": [
  {
   "cell_type": "code",
   "execution_count": 10,
   "id": "32579c4c",
   "metadata": {},
   "outputs": [],
   "source": [
    "import pandas as pd\n",
    "import csv\n",
    "import json\n",
    "import matplotlib as plt"
   ]
  },
  {
   "cell_type": "code",
   "execution_count": 13,
   "id": "23c9b3ed",
   "metadata": {},
   "outputs": [],
   "source": [
    "df = pd.read_csv('~/w205/spotify-trends/csv_data/2021-11-26_16:30:27.csv')"
   ]
  },
  {
   "cell_type": "code",
   "execution_count": 60,
   "id": "138a43fe",
   "metadata": {},
   "outputs": [],
   "source": [
    "final_df = pd.DataFrame(columns = ['date','rank','song_name','song_id','album_name','artist','release_date'])\n",
    "for j in range(2,len(df)):\n",
    "    json_text = json.loads(df.value[j])['playlist_details']['tracks']['items']\n",
    "    \n",
    "    album_names = []\n",
    "    song_names = []\n",
    "    artists = []\n",
    "    release_dates = []\n",
    "    song_ids = []\n",
    "    ranks = []\n",
    "    day = []\n",
    "    \n",
    "    for i in range(50):\n",
    "        day.append(df.timestamp[j])\n",
    "        ranks.append(str(i+1))\n",
    "\n",
    "        # album\n",
    "        album_name = json_text[i]['track']['album']['name']\n",
    "        album_names.append(album_name)\n",
    "\n",
    "        # song\n",
    "        song_name = json_text[i]['track']['name']\n",
    "        song_names.append(song_name)\n",
    "\n",
    "        # artist\n",
    "        artist = json_text[i]['track']['album']['artists'][0]['name']\n",
    "        artists.append(artist)\n",
    "\n",
    "        # release date\n",
    "        release_date = json_text[i]['track']['album']['release_date']\n",
    "        release_dates.append(release_date)\n",
    "\n",
    "        # song id\n",
    "        song_id = json_text[i]['track']['id']\n",
    "        song_ids.append(song_id)\n",
    "\n",
    "    example = pd.DataFrame({\n",
    "                 'date':day,\n",
    "                 'rank':ranks,\n",
    "                 'song_name':song_names,\n",
    "                 'song_id':song_ids,\n",
    "                 'album_name':album_names,\n",
    "                 'artist':artists,\n",
    "                 'release_date':release_dates})\n",
    "    final_df = final_df.append(example)\n",
    "final_df = final_df.reset_index()\n",
    "final_df.to_csv('~/w205/spotify-trends/analysis/everyday_top50.csv')"
   ]
  },
  {
   "cell_type": "code",
   "execution_count": 62,
   "id": "c3f7aad0",
   "metadata": {},
   "outputs": [
    {
     "data": {
      "text/plain": [
       "71"
      ]
     },
     "execution_count": 62,
     "metadata": {},
     "output_type": "execute_result"
    }
   ],
   "source": [
    "len(set(final_df.song_id))"
   ]
  },
  {
   "cell_type": "code",
   "execution_count": 63,
   "id": "ef178477",
   "metadata": {},
   "outputs": [
    {
     "data": {
      "text/plain": [
       "{'00Blm7zeNqgYLPtW6zg8cj',\n",
       " '01K4zKU104LyJ8gMb7227B',\n",
       " '02MWAaffLxlfxAUY7c5dvx',\n",
       " '04S1pkp1VaIqjg8zZqknR5',\n",
       " '07MDkzWARZaLEdKxo6yArG',\n",
       " '09gysnJpfQ3ublBmJDfcEC',\n",
       " '09u787BYeYIGd2mFIJ505t',\n",
       " '0VjIjW4GlUZAMYd2vXMi3b',\n",
       " '0bYg9bo50gSsH3LtXe2SQn',\n",
       " '0e8nrvls4Qqv5Rfa2UhqmO',\n",
       " '0eu4C55hL6x29mmeAjytzC',\n",
       " '0gplL1WMoJ6iYaPgMCL0gX',\n",
       " '10ImcQk9tihY1EKMDIbvXJ',\n",
       " '13CVSGLSFl4UxpDVR6u3dq',\n",
       " '15HMh4yxdf4wyxSZSlOgGZ',\n",
       " '1LPSkqVhWVRUkKE03YUkpB',\n",
       " '1SC5rEoYDGUK4NfG82494W',\n",
       " '1n3b9Eekoy3S9ZSZ5DmTW1',\n",
       " '1r9xUipOqoNwggBpENDsvJ',\n",
       " '20on25jryn53hWghthWWW3',\n",
       " '2B4GHvToeLTOBB4QLzW3Ni',\n",
       " '2DuPBbS5mIldXnh7Wum8Cy',\n",
       " '2FRnf9qhLbvw8fu4IBXx78',\n",
       " '2JPLbjOn0wPCngEot2STUS',\n",
       " '2QjOHCTQ1Jl3zawyYOpxh6',\n",
       " '2Xr1dTzJee307rmrkt8c0g',\n",
       " '2c6xRsQBv7pynuhYhWoHxo',\n",
       " '2gQPv5jvVPqU2a9HhMNO1v',\n",
       " '2gpWyfu7eZ01zzncHpxOtA',\n",
       " '2j3GxEsbNYNeEzz86wDY4J',\n",
       " '2vmfvSoZBFAt9hhRoEByLi',\n",
       " '3DarAbFujv6eYNliUTyqtz',\n",
       " '3Kkjo3cT83cw09VJyrLNwX',\n",
       " '3Vi5XqYrmQgOYBajMWSvCi',\n",
       " '3Wrjm47oTz2sjIgck11l5e',\n",
       " '3nsfB1vus2qaloUdcBZvDu',\n",
       " '3rmo8F54jFF8OgYsqTxm5d',\n",
       " '3uUuGVFu1V7jTQL60S1r8z',\n",
       " '3yII7UwgLF6K5zW3xad3MP',\n",
       " '46HNZY1i7O6jwTA7Slo2PI',\n",
       " '46IZ0fSY2mpAiktS3KOqds',\n",
       " '496vIKS2INz840xZaKncvR',\n",
       " '4CkgMiMqZ5JzW9iYXSTMTL',\n",
       " '4IQkfUsrwXol38VV3U7t7T',\n",
       " '4OAuvHryIVv4kMDNSLuPt6',\n",
       " '4RVwu0g32PAqgUiJoXsdF8',\n",
       " '4SqWKzw0CbA05TGszDgMlc',\n",
       " '4ZtFanR9U6ndgddUvNcjcG',\n",
       " '4fouWK6XVHhzl78KzQ1UjL',\n",
       " '4gvrJnKCKIPiacNsWVQwEU',\n",
       " '4gzsuuZypVbxs0Af1LSZyB',\n",
       " '50nfwKoDiSYg8zOCREWAm5',\n",
       " '5CZ40GBx1sQ9agT82CLQCT',\n",
       " '5PjdY0CKGZdEuoNab3yDmX',\n",
       " '5RwV8BvLfX5injfqYodke9',\n",
       " '5TMLavqGRKNxgzMBrVpC9R',\n",
       " '5Z9KJZvQzH6PFmb8SNkxuk',\n",
       " '5enxwA8aAbwZbf5qCHORXi',\n",
       " '6AtZLIzUINvExIUy4QhdjP',\n",
       " '6I3mqTwhRpn34SLVafSH7G',\n",
       " '6Uj1ctrBOjOas8xZXGqKk4',\n",
       " '6bGMSP3H9YqkmaLnaJTIoF',\n",
       " '6dmXZ9B5HdFAyzHeTneYBK',\n",
       " '6f5ExP43esnvdKPddwKXJH',\n",
       " '6lzc0Al0zfZOIFsFvBS1ki',\n",
       " '6v0UJD4a2FtleHeSYVX02A',\n",
       " '6w8ZPYdnGajyfPddTWdthN',\n",
       " '7hU3IHwjX150XLoTVmjD0q',\n",
       " '7qM1BWAsZMTYh4BcYLb0uQ',\n",
       " '7rglLriMNBPAyuJOMGwi39',\n",
       " '7sMBvZCSUl99bJLXZaLa0b'}"
      ]
     },
     "execution_count": 63,
     "metadata": {},
     "output_type": "execute_result"
    }
   ],
   "source": [
    "# unique song ids\n",
    "set(final_df.song_id)"
   ]
  }
 ],
 "metadata": {
  "environment": {
   "name": "tf2-gpu.2-3.m78",
   "type": "gcloud",
   "uri": "gcr.io/deeplearning-platform-release/tf2-gpu.2-3:m78"
  },
  "kernelspec": {
   "display_name": "Python 3",
   "language": "python",
   "name": "python3"
  },
  "language_info": {
   "codemirror_mode": {
    "name": "ipython",
    "version": 3
   },
   "file_extension": ".py",
   "mimetype": "text/x-python",
   "name": "python",
   "nbconvert_exporter": "python",
   "pygments_lexer": "ipython3",
   "version": "3.7.10"
  }
 },
 "nbformat": 4,
 "nbformat_minor": 5
}

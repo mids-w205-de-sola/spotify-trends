{
 "cells": [
  {
   "cell_type": "markdown",
   "id": "74a0775a",
   "metadata": {},
   "source": [
    "## Final Analysis for Global Top 50 Trends"
   ]
  },
  {
   "cell_type": "markdown",
   "id": "2553a25f",
   "metadata": {},
   "source": [
    "Import libraries for analysis"
   ]
  },
  {
   "cell_type": "code",
   "execution_count": 1,
   "id": "68d4aab1",
   "metadata": {},
   "outputs": [],
   "source": [
    "import pandas as pd\n",
    "import numpy as np\n",
    "import matplotlib.pyplot as plt\n",
    "from matplotlib.lines import Line2D \n",
    "import json\n",
    "pd.set_option(\"max_rows\", None)"
   ]
  },
  {
   "cell_type": "markdown",
   "id": "aca3557c",
   "metadata": {},
   "source": [
    "Import the data that we captured in our pipeline"
   ]
  },
  {
   "cell_type": "code",
   "execution_count": 2,
   "id": "ceac055f",
   "metadata": {},
   "outputs": [
    {
     "data": {
      "text/html": [
       "<div>\n",
       "<style scoped>\n",
       "    .dataframe tbody tr th:only-of-type {\n",
       "        vertical-align: middle;\n",
       "    }\n",
       "\n",
       "    .dataframe tbody tr th {\n",
       "        vertical-align: top;\n",
       "    }\n",
       "\n",
       "    .dataframe thead th {\n",
       "        text-align: right;\n",
       "    }\n",
       "</style>\n",
       "<table border=\"1\" class=\"dataframe\">\n",
       "  <thead>\n",
       "    <tr style=\"text-align: right;\">\n",
       "      <th></th>\n",
       "      <th>date</th>\n",
       "      <th>rank</th>\n",
       "      <th>song_name</th>\n",
       "      <th>song_id</th>\n",
       "      <th>album_name</th>\n",
       "      <th>artist</th>\n",
       "      <th>release_date</th>\n",
       "      <th>id</th>\n",
       "      <th>valence</th>\n",
       "      <th>tempo</th>\n",
       "      <th>danceability</th>\n",
       "      <th>energy</th>\n",
       "      <th>loudness</th>\n",
       "      <th>duration_ms</th>\n",
       "      <th>pull_date</th>\n",
       "    </tr>\n",
       "  </thead>\n",
       "  <tbody>\n",
       "    <tr>\n",
       "      <th>0</th>\n",
       "      <td>2021-11-17 17:30:02.130</td>\n",
       "      <td>1</td>\n",
       "      <td>All Too Well (10 Minute Version) (Taylor's Ver...</td>\n",
       "      <td>5enxwA8aAbwZbf5qCHORXi</td>\n",
       "      <td>Red (Taylor's Version)</td>\n",
       "      <td>Taylor Swift</td>\n",
       "      <td>2021-11-12</td>\n",
       "      <td>5enxwA8aAbwZbf5qCHORXi</td>\n",
       "      <td>0.205</td>\n",
       "      <td>93.023</td>\n",
       "      <td>0.631</td>\n",
       "      <td>0.518</td>\n",
       "      <td>-8.771</td>\n",
       "      <td>613027</td>\n",
       "      <td>2021-11-17</td>\n",
       "    </tr>\n",
       "    <tr>\n",
       "      <th>1</th>\n",
       "      <td>2021-11-18 16:00:04.739</td>\n",
       "      <td>1</td>\n",
       "      <td>All Too Well (10 Minute Version) (Taylor's Ver...</td>\n",
       "      <td>5enxwA8aAbwZbf5qCHORXi</td>\n",
       "      <td>Red (Taylor's Version)</td>\n",
       "      <td>Taylor Swift</td>\n",
       "      <td>2021-11-12</td>\n",
       "      <td>5enxwA8aAbwZbf5qCHORXi</td>\n",
       "      <td>0.205</td>\n",
       "      <td>93.023</td>\n",
       "      <td>0.631</td>\n",
       "      <td>0.518</td>\n",
       "      <td>-8.771</td>\n",
       "      <td>613027</td>\n",
       "      <td>2021-11-18</td>\n",
       "    </tr>\n",
       "    <tr>\n",
       "      <th>2</th>\n",
       "      <td>2021-11-19 16:00:02.631</td>\n",
       "      <td>2</td>\n",
       "      <td>All Too Well (10 Minute Version) (Taylor's Ver...</td>\n",
       "      <td>5enxwA8aAbwZbf5qCHORXi</td>\n",
       "      <td>Red (Taylor's Version)</td>\n",
       "      <td>Taylor Swift</td>\n",
       "      <td>2021-11-12</td>\n",
       "      <td>5enxwA8aAbwZbf5qCHORXi</td>\n",
       "      <td>0.205</td>\n",
       "      <td>93.023</td>\n",
       "      <td>0.631</td>\n",
       "      <td>0.518</td>\n",
       "      <td>-8.771</td>\n",
       "      <td>613027</td>\n",
       "      <td>2021-11-19</td>\n",
       "    </tr>\n",
       "    <tr>\n",
       "      <th>3</th>\n",
       "      <td>2021-11-20 16:00:02.889</td>\n",
       "      <td>6</td>\n",
       "      <td>All Too Well (10 Minute Version) (Taylor's Ver...</td>\n",
       "      <td>5enxwA8aAbwZbf5qCHORXi</td>\n",
       "      <td>Red (Taylor's Version)</td>\n",
       "      <td>Taylor Swift</td>\n",
       "      <td>2021-11-12</td>\n",
       "      <td>5enxwA8aAbwZbf5qCHORXi</td>\n",
       "      <td>0.205</td>\n",
       "      <td>93.023</td>\n",
       "      <td>0.631</td>\n",
       "      <td>0.518</td>\n",
       "      <td>-8.771</td>\n",
       "      <td>613027</td>\n",
       "      <td>2021-11-20</td>\n",
       "    </tr>\n",
       "    <tr>\n",
       "      <th>4</th>\n",
       "      <td>2021-11-21 16:00:02.386</td>\n",
       "      <td>5</td>\n",
       "      <td>All Too Well (10 Minute Version) (Taylor's Ver...</td>\n",
       "      <td>5enxwA8aAbwZbf5qCHORXi</td>\n",
       "      <td>Red (Taylor's Version)</td>\n",
       "      <td>Taylor Swift</td>\n",
       "      <td>2021-11-12</td>\n",
       "      <td>5enxwA8aAbwZbf5qCHORXi</td>\n",
       "      <td>0.205</td>\n",
       "      <td>93.023</td>\n",
       "      <td>0.631</td>\n",
       "      <td>0.518</td>\n",
       "      <td>-8.771</td>\n",
       "      <td>613027</td>\n",
       "      <td>2021-11-21</td>\n",
       "    </tr>\n",
       "  </tbody>\n",
       "</table>\n",
       "</div>"
      ],
      "text/plain": [
       "                     date  rank  \\\n",
       "0 2021-11-17 17:30:02.130     1   \n",
       "1 2021-11-18 16:00:04.739     1   \n",
       "2 2021-11-19 16:00:02.631     2   \n",
       "3 2021-11-20 16:00:02.889     6   \n",
       "4 2021-11-21 16:00:02.386     5   \n",
       "\n",
       "                                           song_name                 song_id  \\\n",
       "0  All Too Well (10 Minute Version) (Taylor's Ver...  5enxwA8aAbwZbf5qCHORXi   \n",
       "1  All Too Well (10 Minute Version) (Taylor's Ver...  5enxwA8aAbwZbf5qCHORXi   \n",
       "2  All Too Well (10 Minute Version) (Taylor's Ver...  5enxwA8aAbwZbf5qCHORXi   \n",
       "3  All Too Well (10 Minute Version) (Taylor's Ver...  5enxwA8aAbwZbf5qCHORXi   \n",
       "4  All Too Well (10 Minute Version) (Taylor's Ver...  5enxwA8aAbwZbf5qCHORXi   \n",
       "\n",
       "               album_name        artist release_date                      id  \\\n",
       "0  Red (Taylor's Version)  Taylor Swift   2021-11-12  5enxwA8aAbwZbf5qCHORXi   \n",
       "1  Red (Taylor's Version)  Taylor Swift   2021-11-12  5enxwA8aAbwZbf5qCHORXi   \n",
       "2  Red (Taylor's Version)  Taylor Swift   2021-11-12  5enxwA8aAbwZbf5qCHORXi   \n",
       "3  Red (Taylor's Version)  Taylor Swift   2021-11-12  5enxwA8aAbwZbf5qCHORXi   \n",
       "4  Red (Taylor's Version)  Taylor Swift   2021-11-12  5enxwA8aAbwZbf5qCHORXi   \n",
       "\n",
       "   valence   tempo  danceability  energy  loudness  duration_ms   pull_date  \n",
       "0    0.205  93.023         0.631   0.518    -8.771       613027  2021-11-17  \n",
       "1    0.205  93.023         0.631   0.518    -8.771       613027  2021-11-18  \n",
       "2    0.205  93.023         0.631   0.518    -8.771       613027  2021-11-19  \n",
       "3    0.205  93.023         0.631   0.518    -8.771       613027  2021-11-20  \n",
       "4    0.205  93.023         0.631   0.518    -8.771       613027  2021-11-21  "
      ]
     },
     "execution_count": 2,
     "metadata": {},
     "output_type": "execute_result"
    }
   ],
   "source": [
    "df = pd.read_csv('~/w205/spotify-trends/analysis/final_data.csv')\n",
    "df['date'] = pd.to_datetime(df['date'])\n",
    "df['pull_date'] = df['date'].dt.date\n",
    "df.head()"
   ]
  },
  {
   "cell_type": "markdown",
   "id": "6d2239e8",
   "metadata": {},
   "source": [
    "### Analysis of all songs"
   ]
  },
  {
   "cell_type": "markdown",
   "id": "fb8e707e",
   "metadata": {},
   "source": [
    "Spotify captures sentiment data in the form of a \"valence\" score. The company defines this attribute as \"a measure from 0.0 to 1.0 describing the musical positiveness conveyed by a track.\" The happier the track, the closer the valence score will be to 1.0. Let's start our analysis by looking generally at how  valence along with attributes like tempo, danceability and energy look like over the last 2 weeks of November."
   ]
  },
  {
   "cell_type": "code",
   "execution_count": 3,
   "id": "93567967",
   "metadata": {},
   "outputs": [
    {
     "data": {
      "text/html": [
       "<div>\n",
       "<style scoped>\n",
       "    .dataframe tbody tr th:only-of-type {\n",
       "        vertical-align: middle;\n",
       "    }\n",
       "\n",
       "    .dataframe tbody tr th {\n",
       "        vertical-align: top;\n",
       "    }\n",
       "\n",
       "    .dataframe thead th {\n",
       "        text-align: right;\n",
       "    }\n",
       "</style>\n",
       "<table border=\"1\" class=\"dataframe\">\n",
       "  <thead>\n",
       "    <tr style=\"text-align: right;\">\n",
       "      <th></th>\n",
       "      <th>pull_date</th>\n",
       "      <th>valence</th>\n",
       "      <th>tempo</th>\n",
       "      <th>danceability</th>\n",
       "      <th>energy</th>\n",
       "    </tr>\n",
       "  </thead>\n",
       "  <tbody>\n",
       "    <tr>\n",
       "      <th>0</th>\n",
       "      <td>2021-11-17</td>\n",
       "      <td>0.493878</td>\n",
       "      <td>123.56050</td>\n",
       "      <td>0.65000</td>\n",
       "      <td>0.63290</td>\n",
       "    </tr>\n",
       "    <tr>\n",
       "      <th>1</th>\n",
       "      <td>2021-11-18</td>\n",
       "      <td>0.490738</td>\n",
       "      <td>123.80136</td>\n",
       "      <td>0.65142</td>\n",
       "      <td>0.63168</td>\n",
       "    </tr>\n",
       "    <tr>\n",
       "      <th>2</th>\n",
       "      <td>2021-11-19</td>\n",
       "      <td>0.478078</td>\n",
       "      <td>122.65864</td>\n",
       "      <td>0.65502</td>\n",
       "      <td>0.62446</td>\n",
       "    </tr>\n",
       "    <tr>\n",
       "      <th>3</th>\n",
       "      <td>2021-11-20</td>\n",
       "      <td>0.464840</td>\n",
       "      <td>126.67350</td>\n",
       "      <td>0.63890</td>\n",
       "      <td>0.60790</td>\n",
       "    </tr>\n",
       "    <tr>\n",
       "      <th>4</th>\n",
       "      <td>2021-11-21</td>\n",
       "      <td>0.480800</td>\n",
       "      <td>126.49060</td>\n",
       "      <td>0.63636</td>\n",
       "      <td>0.61328</td>\n",
       "    </tr>\n",
       "    <tr>\n",
       "      <th>5</th>\n",
       "      <td>2021-11-22</td>\n",
       "      <td>0.480800</td>\n",
       "      <td>126.49060</td>\n",
       "      <td>0.63636</td>\n",
       "      <td>0.61328</td>\n",
       "    </tr>\n",
       "    <tr>\n",
       "      <th>6</th>\n",
       "      <td>2021-11-23</td>\n",
       "      <td>0.480800</td>\n",
       "      <td>126.49060</td>\n",
       "      <td>0.63636</td>\n",
       "      <td>0.61328</td>\n",
       "    </tr>\n",
       "    <tr>\n",
       "      <th>7</th>\n",
       "      <td>2021-11-24</td>\n",
       "      <td>0.477938</td>\n",
       "      <td>124.82688</td>\n",
       "      <td>0.63858</td>\n",
       "      <td>0.60824</td>\n",
       "    </tr>\n",
       "    <tr>\n",
       "      <th>8</th>\n",
       "      <td>2021-11-25</td>\n",
       "      <td>0.480678</td>\n",
       "      <td>123.43440</td>\n",
       "      <td>0.63820</td>\n",
       "      <td>0.61380</td>\n",
       "    </tr>\n",
       "    <tr>\n",
       "      <th>9</th>\n",
       "      <td>2021-11-26</td>\n",
       "      <td>0.499598</td>\n",
       "      <td>124.24684</td>\n",
       "      <td>0.65310</td>\n",
       "      <td>0.63362</td>\n",
       "    </tr>\n",
       "    <tr>\n",
       "      <th>10</th>\n",
       "      <td>2021-11-27</td>\n",
       "      <td>0.508238</td>\n",
       "      <td>121.48522</td>\n",
       "      <td>0.64436</td>\n",
       "      <td>0.61092</td>\n",
       "    </tr>\n",
       "    <tr>\n",
       "      <th>11</th>\n",
       "      <td>2021-11-28</td>\n",
       "      <td>0.521940</td>\n",
       "      <td>124.15024</td>\n",
       "      <td>0.64420</td>\n",
       "      <td>0.62440</td>\n",
       "    </tr>\n",
       "    <tr>\n",
       "      <th>12</th>\n",
       "      <td>2021-11-29</td>\n",
       "      <td>0.556180</td>\n",
       "      <td>128.18122</td>\n",
       "      <td>0.63352</td>\n",
       "      <td>0.62398</td>\n",
       "    </tr>\n",
       "    <tr>\n",
       "      <th>13</th>\n",
       "      <td>2021-11-30</td>\n",
       "      <td>0.504718</td>\n",
       "      <td>123.63544</td>\n",
       "      <td>0.62634</td>\n",
       "      <td>0.61214</td>\n",
       "    </tr>\n",
       "    <tr>\n",
       "      <th>14</th>\n",
       "      <td>2021-12-01</td>\n",
       "      <td>0.509918</td>\n",
       "      <td>122.91896</td>\n",
       "      <td>0.63452</td>\n",
       "      <td>0.61752</td>\n",
       "    </tr>\n",
       "    <tr>\n",
       "      <th>15</th>\n",
       "      <td>2021-12-02</td>\n",
       "      <td>0.521598</td>\n",
       "      <td>125.17792</td>\n",
       "      <td>0.64538</td>\n",
       "      <td>0.63036</td>\n",
       "    </tr>\n",
       "  </tbody>\n",
       "</table>\n",
       "</div>"
      ],
      "text/plain": [
       "     pull_date   valence      tempo  danceability   energy\n",
       "0   2021-11-17  0.493878  123.56050       0.65000  0.63290\n",
       "1   2021-11-18  0.490738  123.80136       0.65142  0.63168\n",
       "2   2021-11-19  0.478078  122.65864       0.65502  0.62446\n",
       "3   2021-11-20  0.464840  126.67350       0.63890  0.60790\n",
       "4   2021-11-21  0.480800  126.49060       0.63636  0.61328\n",
       "5   2021-11-22  0.480800  126.49060       0.63636  0.61328\n",
       "6   2021-11-23  0.480800  126.49060       0.63636  0.61328\n",
       "7   2021-11-24  0.477938  124.82688       0.63858  0.60824\n",
       "8   2021-11-25  0.480678  123.43440       0.63820  0.61380\n",
       "9   2021-11-26  0.499598  124.24684       0.65310  0.63362\n",
       "10  2021-11-27  0.508238  121.48522       0.64436  0.61092\n",
       "11  2021-11-28  0.521940  124.15024       0.64420  0.62440\n",
       "12  2021-11-29  0.556180  128.18122       0.63352  0.62398\n",
       "13  2021-11-30  0.504718  123.63544       0.62634  0.61214\n",
       "14  2021-12-01  0.509918  122.91896       0.63452  0.61752\n",
       "15  2021-12-02  0.521598  125.17792       0.64538  0.63036"
      ]
     },
     "execution_count": 3,
     "metadata": {},
     "output_type": "execute_result"
    }
   ],
   "source": [
    "df_daily = df.groupby(\"pull_date\")[[\"valence\", \"tempo\", \"danceability\", \"energy\"]].mean().reset_index()\n",
    "df_daily"
   ]
  },
  {
   "cell_type": "markdown",
   "id": "75c90994",
   "metadata": {},
   "source": [
    "We plotted the various metrics provided by the API including valence, tempo, danceability and energy.\n",
    "\n",
    "We noticed that songs did tend to be happier during the holidays - peaking after Thanksgiving. We also see that songs that are popular on the weekends tend to be more danceable and that tempo and danceability seem to be correlated."
   ]
  },
  {
   "cell_type": "code",
   "execution_count": 4,
   "id": "9e20461e",
   "metadata": {},
   "outputs": [
    {
     "data": {
      "image/png": "[encoded data removed]",
      "text/plain": [
       "<Figure size 720x720 with 4 Axes>"
      ]
     },
     "metadata": {
      "needs_background": "light"
     },
     "output_type": "display_data"
    }
   ],
   "source": [
    "fig, ax = plt.subplots(2, 2, figsize=(10,10))\n",
    "fig.tight_layout(pad=7)\n",
    "ax[0, 0].plot(df_daily[\"pull_date\"], df_daily[\"valence\"], color = 'yellow')\n",
    "ax[0, 0].set_title('Valence')\n",
    "ax[0, 0].tick_params('x',labelrotation=45)\n",
    "ax[0, 1].plot(df_daily[\"pull_date\"], df_daily[\"tempo\"], color = 'green')\n",
    "ax[0, 1].set_title('Tempo')\n",
    "ax[0, 1].tick_params('x', labelrotation=45)\n",
    "ax[1, 0].plot(df_daily[\"pull_date\"], df_daily[\"danceability\"], color = 'blue')\n",
    "ax[1, 0].set_title('Danceability')\n",
    "ax[1, 0].tick_params('x',labelrotation=45)\n",
    "ax[1, 1].plot(df_daily[\"pull_date\"], df_daily[\"energy\"], color = 'red')\n",
    "ax[1, 1].set_title('Energy')\n",
    "ax[1, 1].tick_params('x',labelrotation=45)"
   ]
  },
  {
   "cell_type": "markdown",
   "id": "018b4c1f",
   "metadata": {},
   "source": [
    "### Artist count by frequency"
   ]
  },
  {
   "cell_type": "markdown",
   "id": "b5fade0e",
   "metadata": {},
   "source": [
    "The top 10 artists did not have \"holiday\" songs despite holiday songs starting to appear in the Global Top 50. So it seems like the holidays are fine time to drop a new album like Adele did."
   ]
  },
  {
   "cell_type": "code",
   "execution_count": 5,
   "id": "214a2602",
   "metadata": {},
   "outputs": [
    {
     "name": "stdout",
     "output_type": "stream",
     "text": [
      "Adele                  101\n",
      "Lil Nas X               48\n",
      "Doja Cat                48\n",
      "Taylor Swift            40\n",
      "Ed Sheeran              32\n",
      "CKay                    32\n",
      "Olivia Rodrigo          27\n",
      "Bruno Mars              19\n",
      "Justin Bieber           19\n",
      "Bad Bunny               16\n",
      "Lost Frequencies        16\n",
      "The Weeknd              16\n",
      "ACRAZE                  16\n",
      "Måneskin                16\n",
      "Billie Eilish           16\n",
      "Swedish House Mafia     16\n",
      "Tainy                   16\n",
      "The Kid LAROI           16\n",
      "Post Malone             16\n",
      "Elton John              16\n",
      "Farruko                 16\n",
      "Imagine Dragons         16\n",
      "Glass Animals           16\n",
      "LISA                    16\n",
      "Coldplay                16\n",
      "Amaarae                 16\n",
      "BoyWithUke              16\n",
      "THE ANXIETY             15\n",
      "GAYLE                   15\n",
      "Oliver Tree             14\n",
      "Mariah Carey            12\n",
      "ROSALÍA                 11\n",
      "NEIKED                  10\n",
      "The Walters              8\n",
      "Wham!                    7\n",
      "Brenda Lee               6\n",
      "Michael Bublé            6\n",
      "Bobby Helms              6\n",
      "Andy Williams            5\n",
      "Ariana Grande            5\n",
      "zzoilo                   5\n",
      "Juice WRLD               4\n",
      "Rauw Alejandro           4\n",
      "Bing Crosby              3\n",
      "Nat King Cole            2\n",
      "Aventura                 1\n",
      "The Neighbourhood        1\n",
      "José Feliciano           1\n",
      "Kelly Clarkson           1\n",
      "Chris Rea                1\n",
      "Sia                      1\n",
      "Frank Sinatra            1\n",
      "Dua Lipa                 1\n",
      "Name: artist, dtype: int64\n"
     ]
    }
   ],
   "source": [
    "count = df['artist'].value_counts()\n",
    "print(count)"
   ]
  },
  {
   "cell_type": "markdown",
   "id": "c7d5c159",
   "metadata": {},
   "source": [
    "### Holiday v. Mainstream Songs"
   ]
  },
  {
   "cell_type": "markdown",
   "id": "0ad43d73",
   "metadata": {},
   "source": [
    "We then extracted all holiday songs to do analysis specifically on those songs."
   ]
  },
  {
   "cell_type": "code",
   "execution_count": 6,
   "id": "edd2a369",
   "metadata": {},
   "outputs": [],
   "source": [
    "christmas_songs = ['All I Want for Christmas Is You', 'Last Christmas', 'White Christmas',\n",
    "                   'It\\'s Beginning to Look a Lot like Christmas', 'Jingle Bell Rock',\n",
    "                   'Rockin\\' Around The Christmas Tree', 'Santa Tell Me', 'It\\'s the Most Wonderful Time of the Year',\n",
    "                   'The Christmas Song (Merry Christmas To You)', 'Mistletoe', 'Feliz Navidad', 'Underneath the Tree',\n",
    "                   'Driving Home for Christmas - 2019 Remaster', 'Snowman', \n",
    "                   'Let It Snow! Let It Snow! Let It Snow! (with The B. Swanson Quartet)']\n",
    "mainstream_songs = [i for i in list(set(df.song_name)) if i not in christmas_songs]"
   ]
  },
  {
   "cell_type": "markdown",
   "id": "ca0b077c",
   "metadata": {},
   "source": [
    "Grouped songs into categories where holiday songs and mainstream songs were separated."
   ]
  },
  {
   "cell_type": "code",
   "execution_count": null,
   "id": "94364838",
   "metadata": {},
   "outputs": [],
   "source": [
    "df['is_christmas'] = np.where(df['song_name'].isin(christmas_songs), 1, 0)"
   ]
  },
  {
   "cell_type": "code",
   "execution_count": null,
   "id": "83ea0bce",
   "metadata": {},
   "outputs": [],
   "source": [
    "fig, ax = plt.subplots(2, 2, figsize=(10,10))\n",
    "fig.tight_layout(pad=7)\n",
    "ax[0, 0].plot(df[df['is_christmas'] == 0].groupby(['pull_date']).valence.mean(), label = 'mainstream songs', color = 'green')\n",
    "ax[0, 0].plot(df[df['is_christmas'] == 1].groupby(['pull_date']).valence.mean(), label = 'christmas songs', color = 'red')\n",
    "ax[0, 0].plot(df.groupby(['pull_date']).valence.mean(), label = 'all songs', color = 'blue')\n",
    "ax[0, 0].set_title('Valence')\n",
    "ax[0, 0].tick_params('x',labelrotation=45)\n",
    "ax[0, 1].plot(df[df['is_christmas'] == 0].groupby(['pull_date'])['rank'].mean(), label = 'mainstream songs', color = 'green')\n",
    "ax[0, 1].plot(df[df['is_christmas'] == 1].groupby(['pull_date'])['rank'].mean(), label = 'christmas songs', color = 'red')\n",
    "ax[0, 1].plot(df.groupby(['pull_date'])['rank'].mean(), label = 'all songs', color = 'blue')\n",
    "ax[0, 1].set_title('Rank')\n",
    "ax[0, 1].tick_params('x', labelrotation=45)\n",
    "ax[1, 0].plot(df[df['is_christmas'] == 0].groupby(['pull_date']).danceability.mean(), label = 'mainstream songs', color = 'green')\n",
    "ax[1, 0].plot(df[df['is_christmas'] == 1].groupby(['pull_date']).danceability.mean(), label = 'christmas songs', color = 'red')\n",
    "ax[1, 0].plot(df.groupby(['pull_date']).danceability.mean(), label = 'all songs', color = 'blue')\n",
    "ax[1, 0].set_title('Danceability')\n",
    "ax[1, 0].tick_params('x',labelrotation=45)\n",
    "ax[1, 1].plot(df[df['is_christmas'] == 0].groupby(['pull_date']).energy.mean(), label = 'mainstream songs', color = 'green')\n",
    "ax[1, 1].plot(df[df['is_christmas'] == 1].groupby(['pull_date']).energy.mean(), label = 'christmas songs', color = 'red')\n",
    "ax[1, 1].plot(df.groupby(['pull_date']).energy.mean(), label = 'all songs', color = 'blue')\n",
    "ax[1, 1].set_title('Energy')\n",
    "ax[1, 1].tick_params('x',labelrotation=45)\n",
    "\n",
    "handles, labels = ax[1, 1].get_legend_handles_labels()\n",
    "fig.legend(handles, labels, loc='upper center')\n",
    "\n",
    "plt.show()"
   ]
  },
  {
   "cell_type": "markdown",
   "id": "eeceb593",
   "metadata": {},
   "source": [
    "Holiday songs tend to be happier over time, but differ greatly from mainstream songs in terms of their characteristics."
   ]
  },
  {
   "cell_type": "markdown",
   "id": "0f155e16",
   "metadata": {},
   "source": [
    "The percentage of holiday songs that appeared in the global top 50 over the time period (11/17/21 - 12/03/21)."
   ]
  },
  {
   "cell_type": "code",
   "execution_count": null,
   "id": "109cdd2a",
   "metadata": {},
   "outputs": [],
   "source": [
    "df.groupby(['date']).mean()['is_christmas'].plot()\n",
    "plt.title(\"Proportion of Holiday Songs in Global Top 50 by Day\")\n",
    "plt.xlabel(\"Date\")\n",
    "plt.ylabel(\"Proportion of Holiday Songs in Global Top 50\")\n",
    "plt.show()"
   ]
  },
  {
   "cell_type": "markdown",
   "id": "b8904516",
   "metadata": {},
   "source": [
    "### All I want for Chistmas is You\""
   ]
  },
  {
   "cell_type": "markdown",
   "id": "b56c3f9f",
   "metadata": {},
   "source": [
    "One reason the data collection ends around this time period is because the company does not want user's \"Wrapped\" stories to be inundated with Christmas music, specifically Mariah Carey's hit \"All I want for Christmas is You\". One big question that comes up around the holidays is how quickly does this song increase in popularity after Thanksgiving? To answer this question, we isolate and plot the rank of this song in the \"Global Top 50\" playlist Around Thanksgiving of 2021:"
   ]
  },
  {
   "cell_type": "markdown",
   "id": "3a066310",
   "metadata": {},
   "source": [
    "We subsetted the data to isolate the song of interest so let's plot the results against the dates."
   ]
  },
  {
   "cell_type": "code",
   "execution_count": null,
   "id": "1e30b2cc",
   "metadata": {},
   "outputs": [],
   "source": [
    "mc_df = df.loc[df['song_name'] == 'All I Want for Christmas Is You']\n",
    "mc_df"
   ]
  },
  {
   "cell_type": "markdown",
   "id": "dcb66f60",
   "metadata": {},
   "source": [
    "From this plot we can see that the song hit it's peak of 3rd ranked song on Global Top 50 on the Monday after Thanksgiving in 2021. The popularity then dipped slightly, but started increasing again at the Beginning of December."
   ]
  },
  {
   "cell_type": "code",
   "execution_count": null,
   "id": "ca4b28d3",
   "metadata": {},
   "outputs": [],
   "source": [
    "plt.plot(mc_df['pull_date'], mc_df['rank'], color = 'green', linewidth=1.5, marker = '^')\n",
    "plt.gca().invert_yaxis()\n",
    "plt.xticks(rotation = 45)\n",
    "plt.title(\"Rank of 'All I Want for Christmas Is You' Over Time\")\n",
    "plt.xlabel(\"Date\")\n",
    "plt.ylabel(\"Rank\")\n",
    "plt.show()"
   ]
  },
  {
   "cell_type": "code",
   "execution_count": null,
   "id": "33e488cc",
   "metadata": {},
   "outputs": [],
   "source": []
  }
 ],
 "metadata": {
  "environment": {
   "name": "tf2-gpu.2-3.m78",
   "type": "gcloud",
   "uri": "gcr.io/deeplearning-platform-release/tf2-gpu.2-3:m78"
  },
  "kernelspec": {
   "display_name": "Python 3",
   "language": "python",
   "name": "python3"
  },
  "language_info": {
   "codemirror_mode": {
    "name": "ipython",
    "version": 3
   },
   "file_extension": ".py",
   "mimetype": "text/x-python",
   "name": "python",
   "nbconvert_exporter": "python",
   "pygments_lexer": "ipython3",
   "version": "3.7.10"
  }
 },
 "nbformat": 4,
 "nbformat_minor": 5
}

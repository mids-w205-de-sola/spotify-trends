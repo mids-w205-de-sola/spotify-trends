{
 "cells": [],
 "metadata": {
  "environment": {
   "name": "tf2-gpu.2-3.m78",
   "type": "gcloud",
   "uri": "gcr.io/deeplearning-platform-release/tf2-gpu.2-3:m78"
  }
 },
 "nbformat": 4,
 "nbformat_minor": 5
}
